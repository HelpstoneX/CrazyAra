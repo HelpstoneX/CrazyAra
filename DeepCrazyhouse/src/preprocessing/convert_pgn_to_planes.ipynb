{
 "cells": [
  {
   "cell_type": "markdown",
   "metadata": {},
   "source": [
    "# Deep Crazyhouse\n",
    "\n",
    "\n",
    "## Conversion of PGN files to Image-Plane Representation\n",
    "\n",
    "* file: convert_pgn_to_planes.ipynb\n",
    "* brief: Loads in a png-file from the lichess crazyhouse dataset and converts it to plane representation. The plane representations can later be used by a convolutional neural network.\n",
    "\n",
    "* author: QueensGambit\n",
    "* contact: johannes.czech@stud.tu-darmstadt.de\n",
    "* versions:\n",
    "    * 2018-06-10 initial version\n",
    "    * 2019-09-28 added support for all lichess variants\n",
    "    * 2020-08-14 added min_number_moves (default: 5), fixed min_elo_both threshold       "
   ]
  },
  {
   "cell_type": "code",
   "execution_count": 1,
   "metadata": {
    "pycharm": {
     "is_executing": true
    }
   },
   "outputs": [],
   "source": [
    "%load_ext autoreload\n",
    "%autoreload 2"
   ]
  },
  {
   "cell_type": "code",
   "execution_count": 2,
   "metadata": {},
   "outputs": [],
   "source": [
    "%reload_ext autoreload"
   ]
  },
  {
   "cell_type": "code",
   "execution_count": 3,
   "metadata": {},
   "outputs": [],
   "source": [
    "import sys, os\n",
    "sys.path.insert(0,'../../../')\n",
    "import os\n",
    "import sys\n",
    "from DeepCrazyhouse.src.preprocessing.pgn_to_planes_converter import PGN2PlanesConverter\n",
    "from DeepCrazyhouse.src.runtime.color_logger import enable_color_logging\n",
    "enable_color_logging()\n",
    "import logging"
   ]
  },
  {
   "cell_type": "markdown",
   "metadata": {},
   "source": [
    "## Settings"
   ]
  },
  {
   "cell_type": "code",
   "execution_count": 4,
   "metadata": {},
   "outputs": [
    {
     "name": "stdout",
     "output_type": "stream",
     "text": [
      "C:\\workspace\\Python\\CrazyAra\\DeepCrazyhouse\\src\\preprocessing\n"
     ]
    }
   ],
   "source": [
    "nb_games_per_file = 1000\n",
    "# Rating cap at 90% cumulative rating for all varaints\n",
    "min_elo_both = {\n",
    "#    \"Chess\": 2200,\n",
    "#    \"Crazyhouse\": 2000,\n",
    "#    \"Chess960\": 1950,\n",
    "#    \"King of the Hill\": 1925,\n",
    "#    \"Three-check\": 1900,\n",
    "    \"Atomic\": 1900,\n",
    "#    \"Horde\": 1900,\n",
    "#    \"Racing Kings\": 1900\n",
    "} # is ignored if \"use_all_games\" is True\n",
    "use_all_games = True\n",
    "print(os.getcwd())"
   ]
  },
  {
   "cell_type": "markdown",
   "metadata": {},
   "source": [
    "### Export the Train Games"
   ]
  },
  {
   "cell_type": "code",
   "execution_count": 6,
   "metadata": {},
   "outputs": [
    {
     "name": "stdout",
     "output_type": "stream",
     "text": [
      "2023-06-22 02:56:05 root[47708] \u001B[1mINFO\u001B[0m SCRIPT START\n",
      "2023-06-22 02:56:05 root[47708] \u001B[1mINFO\u001B[0m reading in config file...\n",
      "2023-06-22 02:56:05 root[47708] \u001B[1mDEBUG\u001B[0m {'pgn_train_dir': 'C:/workspace/Python/CrazyAra/DeepCrazyhouse/data/kingbase/pgn/train/', 'pgn_val_dir': 'C:/workspace/Python/CrazyAra/DeepCrazyhouse/data/kingbase/pgn/val/', 'pgn_test_dir': 'C:/workspace/Python/CrazyAra/DeepCrazyhouse/data/kingbase/pgn/test/', 'pgn_mate_in_one_dir': 'C:/workspace/Python/CrazyAra/DeepCrazyhouse/data/kingbase/pgn/mate_in_one/', 'planes_train_dir': 'C:/workspace/Python/CrazyAra/DeepCrazyhouse/data/kingbase/planes/train/', 'planes_val_dir': 'C:/workspace/Python/CrazyAra/DeepCrazyhouse/data/kingbase/planes/val/', 'planes_test_dir': 'C:/workspace/Python/CrazyAra/DeepCrazyhouse/data/kingbase/planes/test/', 'planes_mate_in_one_dir': 'C:/workspace/Python/CrazyAra/DeepCrazyhouse/data/kingbase/planes/mate_in_one/', 'rec_dir': 'C:/workspace/Python/CrazyAra/DeepCrazyhouse/data/kingbase/rec/', 'model_architecture_dir': '/DeepCrazyhouse/models/Classic/symbol/', 'model_weights_dir': '/DeepCrazyhouse/models/Classic/params/', 'value_output': 'value_out', 'policy_output': 'policy_out', 'auxiliary_output': 'auxiliary_out', 'wdl_output': 'wdl_out', 'plys_to_end_output': 'plys_to_end_out', 'mode': 2, 'version': 3}\n",
      "2023-06-22 02:56:05 root[47708] \u001B[1mINFO\u001B[0m PGN-Name: lichess_db_standard_rated_2013-01.pgn\n"
     ]
    },
    {
     "ename": "TypeError",
     "evalue": "cannot pickle '_thread.RLock' object",
     "output_type": "error",
     "traceback": [
      "\u001B[1;31m----------------------------------------------------------\u001B[0m",
      "\u001B[1;31mTypeError\u001B[0m                Traceback (most recent call last)",
      "Cell \u001B[1;32mIn[6], line 1\u001B[0m\n\u001B[1;32m----> 1\u001B[0m \u001B[43mPGN2PlanesConverter\u001B[49m\u001B[43m(\u001B[49m\u001B[43mlimit_nb_games_to_analyze\u001B[49m\u001B[38;5;241;43m=\u001B[39;49m\u001B[38;5;241;43m0\u001B[39;49m\u001B[43m,\u001B[49m\u001B[43m \u001B[49m\u001B[43mnb_games_per_file\u001B[49m\u001B[38;5;241;43m=\u001B[39;49m\u001B[43mnb_games_per_file\u001B[49m\u001B[43m,\u001B[49m\n\u001B[0;32m      2\u001B[0m \u001B[43m                  \u001B[49m\u001B[43mmax_nb_files\u001B[49m\u001B[38;5;241;43m=\u001B[39;49m\u001B[38;5;241;43m0\u001B[39;49m\u001B[43m,\u001B[49m\u001B[43m \u001B[49m\u001B[43mmin_elo_both\u001B[49m\u001B[38;5;241;43m=\u001B[39;49m\u001B[43mmin_elo_both\u001B[49m\u001B[43m,\u001B[49m\u001B[43m \u001B[49m\u001B[43mtermination_conditions\u001B[49m\u001B[38;5;241;43m=\u001B[39;49m\u001B[43m[\u001B[49m\u001B[38;5;124;43m\"\u001B[39;49m\u001B[38;5;124;43mNormal\u001B[39;49m\u001B[38;5;124;43m\"\u001B[39;49m\u001B[43m]\u001B[49m\u001B[43m,\u001B[49m\u001B[43m \u001B[49m\u001B[43mlog_lvl\u001B[49m\u001B[38;5;241;43m=\u001B[39;49m\u001B[43mlogging\u001B[49m\u001B[38;5;241;43m.\u001B[39;49m\u001B[43mDEBUG\u001B[49m\u001B[43m,\u001B[49m\n\u001B[0;32m      3\u001B[0m \u001B[43m                  \u001B[49m\u001B[43mcompression\u001B[49m\u001B[38;5;241;43m=\u001B[39;49m\u001B[38;5;124;43m'\u001B[39;49m\u001B[38;5;124;43mlz4\u001B[39;49m\u001B[38;5;124;43m'\u001B[39;49m\u001B[43m,\u001B[49m\u001B[43m \u001B[49m\u001B[43mclevel\u001B[49m\u001B[38;5;241;43m=\u001B[39;49m\u001B[38;5;241;43m5\u001B[39;49m\u001B[43m,\u001B[49m\u001B[43m \u001B[49m\u001B[43mdataset_type\u001B[49m\u001B[38;5;241;43m=\u001B[39;49m\u001B[38;5;124;43m'\u001B[39;49m\u001B[38;5;124;43mtrain\u001B[39;49m\u001B[38;5;124;43m'\u001B[39;49m\u001B[43m,\u001B[49m\u001B[43m \u001B[49m\u001B[43muse_all_games\u001B[49m\u001B[38;5;241;43m=\u001B[39;49m\u001B[43muse_all_games\u001B[49m\u001B[43m)\u001B[49m\u001B[38;5;241;43m.\u001B[39;49m\u001B[43mconvert_all_pgns_to_planes\u001B[49m\u001B[43m(\u001B[49m\u001B[43m)\u001B[49m\n",
      "File \u001B[1;32mC:\\workspace\\Python\\CrazyAra\\DeepCrazyhouse\\src\\preprocessing\\../../..\\DeepCrazyhouse\\src\\preprocessing\\pgn_to_planes_converter.py:376\u001B[0m, in \u001B[0;36mPGN2PlanesConverter.convert_all_pgns_to_planes\u001B[1;34m(self)\u001B[0m\n\u001B[0;32m    374\u001B[0m pgns \u001B[38;5;241m=\u001B[39m os\u001B[38;5;241m.\u001B[39mlistdir(\u001B[38;5;28mself\u001B[39m\u001B[38;5;241m.\u001B[39m_import_dir)\n\u001B[0;32m    375\u001B[0m \u001B[38;5;28;01mfor\u001B[39;00m pgn_name \u001B[38;5;129;01min\u001B[39;00m pgns:\n\u001B[1;32m--> 376\u001B[0m     cur_games_exported \u001B[38;5;241m=\u001B[39m \u001B[38;5;28;43mself\u001B[39;49m\u001B[38;5;241;43m.\u001B[39;49m\u001B[43mconvert_pgn_to_planes\u001B[49m\u001B[43m(\u001B[49m\u001B[43mpgn_name\u001B[49m\u001B[43m)\u001B[49m\n\u001B[0;32m    377\u001B[0m     total_games_exported \u001B[38;5;241m+\u001B[39m\u001B[38;5;241m=\u001B[39m cur_games_exported\n\u001B[0;32m    378\u001B[0m     logging\u001B[38;5;241m.\u001B[39minfo(\u001B[38;5;124m\"\u001B[39m\u001B[38;5;124mTotal Games Exported: \u001B[39m\u001B[38;5;132;01m%d\u001B[39;00m\u001B[38;5;124m\"\u001B[39m, total_games_exported)\n",
      "File \u001B[1;32mC:\\workspace\\Python\\CrazyAra\\DeepCrazyhouse\\src\\preprocessing\\../../..\\DeepCrazyhouse\\src\\preprocessing\\pgn_to_planes_converter.py:391\u001B[0m, in \u001B[0;36mPGN2PlanesConverter.convert_pgn_to_planes\u001B[1;34m(self, pgn_name)\u001B[0m\n\u001B[0;32m    389\u001B[0m process \u001B[38;5;241m=\u001B[39m Process(target\u001B[38;5;241m=\u001B[39m\u001B[38;5;28mself\u001B[39m\u001B[38;5;241m.\u001B[39m_convert_pgn_to_planes_thread, args\u001B[38;5;241m=\u001B[39m(pgn_name, queue))\n\u001B[0;32m    390\u001B[0m \u001B[38;5;66;03m# export one batch of pgn games\u001B[39;00m\n\u001B[1;32m--> 391\u001B[0m \u001B[43mprocess\u001B[49m\u001B[38;5;241;43m.\u001B[39;49m\u001B[43mstart\u001B[49m\u001B[43m(\u001B[49m\u001B[43m)\u001B[49m\n\u001B[0;32m    392\u001B[0m games_exported \u001B[38;5;241m=\u001B[39m queue\u001B[38;5;241m.\u001B[39mget()  \u001B[38;5;66;03m# receive the return argument from the Queue()\u001B[39;00m\n\u001B[0;32m    393\u001B[0m \u001B[38;5;28;01mif\u001B[39;00m games_exported \u001B[38;5;129;01mis\u001B[39;00m \u001B[38;5;28;01mNone\u001B[39;00m:\n",
      "File \u001B[1;32m~\\Anaconda3\\envs\\crazyara_3_8\\lib\\multiprocessing\\process.py:121\u001B[0m, in \u001B[0;36mBaseProcess.start\u001B[1;34m(self)\u001B[0m\n\u001B[0;32m    118\u001B[0m \u001B[38;5;28;01massert\u001B[39;00m \u001B[38;5;129;01mnot\u001B[39;00m _current_process\u001B[38;5;241m.\u001B[39m_config\u001B[38;5;241m.\u001B[39mget(\u001B[38;5;124m'\u001B[39m\u001B[38;5;124mdaemon\u001B[39m\u001B[38;5;124m'\u001B[39m), \\\n\u001B[0;32m    119\u001B[0m        \u001B[38;5;124m'\u001B[39m\u001B[38;5;124mdaemonic processes are not allowed to have children\u001B[39m\u001B[38;5;124m'\u001B[39m\n\u001B[0;32m    120\u001B[0m _cleanup()\n\u001B[1;32m--> 121\u001B[0m \u001B[38;5;28mself\u001B[39m\u001B[38;5;241m.\u001B[39m_popen \u001B[38;5;241m=\u001B[39m \u001B[38;5;28;43mself\u001B[39;49m\u001B[38;5;241;43m.\u001B[39;49m\u001B[43m_Popen\u001B[49m\u001B[43m(\u001B[49m\u001B[38;5;28;43mself\u001B[39;49m\u001B[43m)\u001B[49m\n\u001B[0;32m    122\u001B[0m \u001B[38;5;28mself\u001B[39m\u001B[38;5;241m.\u001B[39m_sentinel \u001B[38;5;241m=\u001B[39m \u001B[38;5;28mself\u001B[39m\u001B[38;5;241m.\u001B[39m_popen\u001B[38;5;241m.\u001B[39msentinel\n\u001B[0;32m    123\u001B[0m \u001B[38;5;66;03m# Avoid a refcycle if the target function holds an indirect\u001B[39;00m\n\u001B[0;32m    124\u001B[0m \u001B[38;5;66;03m# reference to the process object (see bpo-30775)\u001B[39;00m\n",
      "File \u001B[1;32m~\\Anaconda3\\envs\\crazyara_3_8\\lib\\multiprocessing\\context.py:224\u001B[0m, in \u001B[0;36mProcess._Popen\u001B[1;34m(process_obj)\u001B[0m\n\u001B[0;32m    222\u001B[0m \u001B[38;5;129m@staticmethod\u001B[39m\n\u001B[0;32m    223\u001B[0m \u001B[38;5;28;01mdef\u001B[39;00m \u001B[38;5;21m_Popen\u001B[39m(process_obj):\n\u001B[1;32m--> 224\u001B[0m     \u001B[38;5;28;01mreturn\u001B[39;00m \u001B[43m_default_context\u001B[49m\u001B[38;5;241;43m.\u001B[39;49m\u001B[43mget_context\u001B[49m\u001B[43m(\u001B[49m\u001B[43m)\u001B[49m\u001B[38;5;241;43m.\u001B[39;49m\u001B[43mProcess\u001B[49m\u001B[38;5;241;43m.\u001B[39;49m\u001B[43m_Popen\u001B[49m\u001B[43m(\u001B[49m\u001B[43mprocess_obj\u001B[49m\u001B[43m)\u001B[49m\n",
      "File \u001B[1;32m~\\Anaconda3\\envs\\crazyara_3_8\\lib\\multiprocessing\\context.py:327\u001B[0m, in \u001B[0;36mSpawnProcess._Popen\u001B[1;34m(process_obj)\u001B[0m\n\u001B[0;32m    324\u001B[0m \u001B[38;5;129m@staticmethod\u001B[39m\n\u001B[0;32m    325\u001B[0m \u001B[38;5;28;01mdef\u001B[39;00m \u001B[38;5;21m_Popen\u001B[39m(process_obj):\n\u001B[0;32m    326\u001B[0m     \u001B[38;5;28;01mfrom\u001B[39;00m \u001B[38;5;21;01m.\u001B[39;00m\u001B[38;5;21;01mpopen_spawn_win32\u001B[39;00m \u001B[38;5;28;01mimport\u001B[39;00m Popen\n\u001B[1;32m--> 327\u001B[0m     \u001B[38;5;28;01mreturn\u001B[39;00m \u001B[43mPopen\u001B[49m\u001B[43m(\u001B[49m\u001B[43mprocess_obj\u001B[49m\u001B[43m)\u001B[49m\n",
      "File \u001B[1;32m~\\Anaconda3\\envs\\crazyara_3_8\\lib\\multiprocessing\\popen_spawn_win32.py:93\u001B[0m, in \u001B[0;36mPopen.__init__\u001B[1;34m(self, process_obj)\u001B[0m\n\u001B[0;32m     91\u001B[0m \u001B[38;5;28;01mtry\u001B[39;00m:\n\u001B[0;32m     92\u001B[0m     reduction\u001B[38;5;241m.\u001B[39mdump(prep_data, to_child)\n\u001B[1;32m---> 93\u001B[0m     \u001B[43mreduction\u001B[49m\u001B[38;5;241;43m.\u001B[39;49m\u001B[43mdump\u001B[49m\u001B[43m(\u001B[49m\u001B[43mprocess_obj\u001B[49m\u001B[43m,\u001B[49m\u001B[43m \u001B[49m\u001B[43mto_child\u001B[49m\u001B[43m)\u001B[49m\n\u001B[0;32m     94\u001B[0m \u001B[38;5;28;01mfinally\u001B[39;00m:\n\u001B[0;32m     95\u001B[0m     set_spawning_popen(\u001B[38;5;28;01mNone\u001B[39;00m)\n",
      "File \u001B[1;32m~\\Anaconda3\\envs\\crazyara_3_8\\lib\\multiprocessing\\reduction.py:60\u001B[0m, in \u001B[0;36mdump\u001B[1;34m(obj, file, protocol)\u001B[0m\n\u001B[0;32m     58\u001B[0m \u001B[38;5;28;01mdef\u001B[39;00m \u001B[38;5;21mdump\u001B[39m(obj, file, protocol\u001B[38;5;241m=\u001B[39m\u001B[38;5;28;01mNone\u001B[39;00m):\n\u001B[0;32m     59\u001B[0m \u001B[38;5;250m    \u001B[39m\u001B[38;5;124;03m'''Replacement for pickle.dump() using ForkingPickler.'''\u001B[39;00m\n\u001B[1;32m---> 60\u001B[0m     \u001B[43mForkingPickler\u001B[49m\u001B[43m(\u001B[49m\u001B[43mfile\u001B[49m\u001B[43m,\u001B[49m\u001B[43m \u001B[49m\u001B[43mprotocol\u001B[49m\u001B[43m)\u001B[49m\u001B[38;5;241;43m.\u001B[39;49m\u001B[43mdump\u001B[49m\u001B[43m(\u001B[49m\u001B[43mobj\u001B[49m\u001B[43m)\u001B[49m\n",
      "\u001B[1;31mTypeError\u001B[0m: cannot pickle '_thread.RLock' object"
     ]
    }
   ],
   "source": [
    "PGN2PlanesConverter(limit_nb_games_to_analyze=0, nb_games_per_file=nb_games_per_file,\n",
    "                  max_nb_files=0, min_elo_both=min_elo_both, termination_conditions=[\"Normal\"], log_lvl=logging.DEBUG,\n",
    "                  compression='lz4', clevel=5, dataset_type='train', use_all_games=use_all_games).convert_all_pgns_to_planes()"
   ]
  },
  {
   "cell_type": "markdown",
   "metadata": {},
   "source": [
    "### Export the Validation Games"
   ]
  },
  {
   "cell_type": "code",
   "execution_count": null,
   "metadata": {},
   "outputs": [],
   "source": [
    "PGN2PlanesConverter(limit_nb_games_to_analyze=0, nb_games_per_file=nb_games_per_file,\n",
    "                  max_nb_files=1, min_elo_both=min_elo_both, termination_conditions=[\"Normal\"], log_lvl=logging.DEBUG,\n",
    "                  compression='lz4', clevel=5, dataset_type='val', use_all_games=use_all_games).convert_all_pgns_to_planes()"
   ]
  },
  {
   "cell_type": "markdown",
   "metadata": {},
   "source": [
    "### Export the Test Games"
   ]
  },
  {
   "cell_type": "code",
   "execution_count": null,
   "metadata": {},
   "outputs": [],
   "source": [
    "PGN2PlanesConverter(limit_nb_games_to_analyze=0, nb_games_per_file=nb_games_per_file,\n",
    "                  max_nb_files=1, min_elo_both=min_elo_both, termination_conditions=[\"Normal\"], log_lvl=logging.DEBUG,\n",
    "                  compression='lz4', clevel=5, dataset_type='test', use_all_games=use_all_games).convert_all_pgns_to_planes()"
   ]
  },
  {
   "cell_type": "markdown",
   "metadata": {
    "collapsed": true,
    "jupyter": {
     "outputs_hidden": true
    }
   },
   "source": [
    "### Export Mate in Ones"
   ]
  },
  {
   "cell_type": "code",
   "execution_count": null,
   "metadata": {},
   "outputs": [],
   "source": [
    "PGN2PlanesConverter(limit_nb_games_to_analyze=0, nb_games_per_file=nb_games_per_file,\n",
    "                      max_nb_files=1, min_elo_both=min_elo_both, termination_conditions=[\"Normal\"], log_lvl=logging.DEBUG,\n",
    "                      compression='lz4', clevel=5, dataset_type='mate_in_one').convert_all_pgns_to_planes()"
   ]
  },
  {
   "cell_type": "code",
   "execution_count": null,
   "metadata": {},
   "outputs": [],
   "source": []
  }
 ],
 "metadata": {
  "kernelspec": {
   "display_name": "Python 3 (ipykernel)",
   "language": "python",
   "name": "python3"
  },
  "language_info": {
   "codemirror_mode": {
    "name": "ipython",
    "version": 3
   },
   "file_extension": ".py",
   "mimetype": "text/x-python",
   "name": "python",
   "nbconvert_exporter": "python",
   "pygments_lexer": "ipython3",
   "version": "3.8.16"
  }
 },
 "nbformat": 4,
 "nbformat_minor": 4
}