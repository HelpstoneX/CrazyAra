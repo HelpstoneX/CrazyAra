{
 "cells": [
  {
   "cell_type": "code",
   "execution_count": 1,
   "id": "d74114e5-283d-4593-b87a-3df12cbf2f08",
   "metadata": {},
   "outputs": [],
   "source": [
    "import chess\n",
    "import chess.pgn\n",
    "import numpy as np\n",
    "import matplotlib.pyplot as plt\n",
    "import io\n",
    "import sys, os\n",
    "sys.path.insert(0,'../')\n",
    "from DeepCrazyhouse.configs.main_config import main_config\n",
    "import pandas as pd"
   ]
  },
  {
   "cell_type": "code",
   "execution_count": null,
   "id": "f6801b80-a444-4a1a-9993-36cff7cfe929",
   "metadata": {},
   "outputs": [],
   "source": [
    "# unused and not working cell\n",
    "content = pgn.read()  # read the pgn content into a string\n",
    "nb_games = content.count(\"[Result\")\n",
    "all_games = content.split(\"[Event \")  # split the content for each single game\n",
    "\n",
    "for idx, _ in enumerate(all_games):\n",
    "    all_games[idx] = \"[Event \" + all_games[idx]\n",
    "\n",
    "pgns = []\n",
    "del all_games[0]\n",
    "for game in games:\n",
    "    game_start_char = game.find(\"1. \")\n",
    "    if game_start_char != -1:\n",
    "        if game[:game_start_char].find('Variant \"Chess960\"'):\n",
    "            # 2019-09-28: fix for chess960 because in the default position lichess denotes FEN as \"?\"\n",
    "            game = game.replace('[FEN \"?\"]', '[FEN \"rnbqkbnr/pppppppp/8/8/8/8/PPPPPPPP/RNBQKBNR w KQkq - 0 1\"]')\n",
    "\n",
    "        pgns.append(io.StringIO(game))\n",
    "\n",
    "elos = list()\n",
    "\n",
    "for game_pgn in pgns:\n",
    "    # we need to create a deep copy, otherwise the end of the file is reached for later\n",
    "    game_pgn_copy = deepcopy(game_pgn)\n",
    "    for _, headers in chess.pgn.scan_headers(game_pgn_copy):\n",
    "        try:\n",
    "            white_elo = headers[\"WhiteElo\"]\n",
    "        except KeyError:\n",
    "            white_elo = \"0\"\n",
    "        try:\n",
    "            black_elo = headers[\"BlackElo\"]\n",
    "        except KeyError:\n",
    "            black_elo = \"0\"\n",
    "        elos.append(int(white_elo))\n",
    "        elos.append(int(black_elo))"
   ]
  },
  {
   "cell_type": "code",
   "execution_count": 2,
   "id": "f2e80a9f-887d-4df5-be5e-06bcaf74b7a6",
   "metadata": {},
   "outputs": [
    {
     "data": {
      "text/plain": [
       "'C:/workspace/Python/CrazyAra/data/chess960_pgns/pgn/train/lichess_db_chess960_rated_2023-11.pgn'"
      ]
     },
     "execution_count": 2,
     "metadata": {},
     "output_type": "execute_result"
    }
   ],
   "source": [
    "use960 = True\n",
    "dataset = \"train\"\n",
    "prefix = \"960_\" if use960 else \"\"\n",
    "\n",
    "import_dir = f\"C:/workspace/Python/CrazyAra/data/chess960_pgns/pgn/{dataset}/\" if use960 else f\"C:/workspace/Python/CrazyAra/data/kingbase2019_lite_pgn_months/pgn/{dataset}/\"\n",
    "pgn_filenames = os.listdir(import_dir)\n",
    "\n",
    "chosen_file = import_dir + pgn_filenames[-1]\n",
    "pgn = open(chosen_file, \"r\")\n",
    "chosen_file"
   ]
  },
  {
   "cell_type": "code",
   "execution_count": 3,
   "id": "f980a4ab-f527-4708-b183-97f1c1806473",
   "metadata": {},
   "outputs": [
    {
     "name": "stdout",
     "output_type": "stream",
     "text": [
      "10000\n",
      "20000\n",
      "30000\n",
      "40000\n",
      "50000\n",
      "60000\n",
      "70000\n",
      "80000\n",
      "90000\n",
      "100000\n",
      "110000\n",
      "120000\n",
      "130000\n",
      "140000\n",
      "150000\n",
      "160000\n",
      "170000\n",
      "180000\n",
      "190000\n",
      "200000\n",
      "210000\n",
      "220000\n",
      "230000\n",
      "240000\n",
      "250000\n",
      "260000\n"
     ]
    }
   ],
   "source": [
    "games_parsed = 0\n",
    "elos = list()\n",
    "elo_dict = dict()\n",
    "\n",
    "while True:\n",
    "    curr_game = chess.pgn.read_game(pgn)\n",
    "    games_parsed += 1\n",
    "    if games_parsed % 10000 == 0:\n",
    "        print(games_parsed)\n",
    "    if curr_game is None or games_parsed > 1000000:\n",
    "        break\n",
    "\n",
    "    try:\n",
    "        white_elo = curr_game.headers[\"WhiteElo\"]\n",
    "        white_name = curr_game.headers[\"White\"]\n",
    "    except KeyError:\n",
    "        white_elo = \"0\"\n",
    "        white_name = \"None\"\n",
    "    try:\n",
    "        black_elo = curr_game.headers[\"BlackElo\"]\n",
    "        black_name = curr_game.headers[\"Black\"]\n",
    "    except KeyError:\n",
    "        black_elo = \"0\"\n",
    "        black_name = \"None\"\n",
    "    elos.append(int(white_elo))\n",
    "    elos.append(int(black_elo))\n",
    "    elo_dict[white_name] = int(white_elo)\n",
    "    elo_dict[black_name] = int(black_elo)\n",
    "    #_, headers = chess.pgn.scan_headers(game_pgn_copy)"
   ]
  },
  {
   "cell_type": "code",
   "execution_count": 4,
   "id": "610332f0-ab89-41d9-ab8f-a53143903a4d",
   "metadata": {},
   "outputs": [
    {
     "data": {
      "text/plain": [
       "1773.386099737731"
      ]
     },
     "execution_count": 4,
     "metadata": {},
     "output_type": "execute_result"
    }
   ],
   "source": [
    "np.mean(elos)"
   ]
  },
  {
   "cell_type": "code",
   "execution_count": 5,
   "id": "c5677902-b9fe-424f-bdce-dce650f45640",
   "metadata": {},
   "outputs": [
    {
     "data": {
      "text/plain": [
       "<Axes: >"
      ]
     },
     "execution_count": 5,
     "metadata": {},
     "output_type": "execute_result"
    },
    {
     "data": {
      "image/png": "[encoded data removed]",
      "text/plain": [
       "<Figure size 640x480 with 1 Axes>"
      ]
     },
     "metadata": {},
     "output_type": "display_data"
    }
   ],
   "source": [
    "import pandas as pd\n",
    "pd_elos = pd.Series(elos)\n",
    "pd_elos.hist(bins=50)"
   ]
  },
  {
   "cell_type": "code",
   "execution_count": 6,
   "id": "e542a875-d3da-440b-b046-50280bbe8b2a",
   "metadata": {},
   "outputs": [
    {
     "data": {
      "text/plain": [
       "1785.0"
      ]
     },
     "execution_count": 6,
     "metadata": {},
     "output_type": "execute_result"
    }
   ],
   "source": [
    "np.median(elos)"
   ]
  },
  {
   "cell_type": "code",
   "execution_count": 17,
   "id": "132977dc-c1f4-44a3-9a7b-7d54abeda6ba",
   "metadata": {},
   "outputs": [
    {
     "data": {
      "text/plain": [
       "1581.2894903593735"
      ]
     },
     "execution_count": 17,
     "metadata": {},
     "output_type": "execute_result"
    }
   ],
   "source": [
    "sorted_values_unique = list(elo_dict.values())\n",
    "sorted_values_unique = sorted([rating for rating in sorted_values_unique if rating != 1500])\n",
    "np.mean(sorted_values_unique)"
   ]
  },
  {
   "cell_type": "code",
   "execution_count": 18,
   "id": "dc9868ba-b4d2-4205-9edf-4120cbf09bbd",
   "metadata": {},
   "outputs": [
    {
     "data": {
      "text/plain": [
       "1583.0"
      ]
     },
     "execution_count": 18,
     "metadata": {},
     "output_type": "execute_result"
    }
   ],
   "source": [
    "np.median(sorted_values_unique)"
   ]
  },
  {
   "cell_type": "code",
   "execution_count": 19,
   "id": "fcf3ddc6-5374-4347-ac17-0c5e4cbbf27d",
   "metadata": {},
   "outputs": [
    {
     "data": {
      "text/plain": [
       "<Axes: >"
      ]
     },
     "execution_count": 19,
     "metadata": {},
     "output_type": "execute_result"
    },
    {
     "data": {
      "image/png": "[encoded data removed]",
      "text/plain": [
       "<Figure size 640x480 with 1 Axes>"
      ]
     },
     "metadata": {},
     "output_type": "display_data"
    }
   ],
   "source": [
    "pd_elos = pd.Series(sorted_values_unique)\n",
    "pd_elos.hist(bins=50)"
   ]
  },
  {
   "cell_type": "code",
   "execution_count": 20,
   "id": "bfd5eabc-4585-46c0-9d59-97531020c4a6",
   "metadata": {},
   "outputs": [
    {
     "data": {
      "text/plain": [
       "22094"
      ]
     },
     "execution_count": 20,
     "metadata": {},
     "output_type": "execute_result"
    }
   ],
   "source": [
    "len(sorted_values_unique)"
   ]
  },
  {
   "cell_type": "code",
   "execution_count": 21,
   "id": "f8388a57-d013-4fdc-8426-97503d0b0e8d",
   "metadata": {},
   "outputs": [
    {
     "data": {
      "text/plain": [
       "[400, 571, 613, 646, 657, 678, 686, 688, 691, 712]"
      ]
     },
     "execution_count": 21,
     "metadata": {},
     "output_type": "execute_result"
    }
   ],
   "source": [
    "sorted_values_unique[:10]"
   ]
  },
  {
   "cell_type": "code",
   "execution_count": 25,
   "id": "225b5a80-e581-44aa-af47-45446984d307",
   "metadata": {},
   "outputs": [
    {
     "data": {
      "text/plain": [
       "1952"
      ]
     },
     "execution_count": 25,
     "metadata": {},
     "output_type": "execute_result"
    }
   ],
   "source": [
    "sorted_values_unique[-2300]"
   ]
  },
  {
   "cell_type": "code",
   "execution_count": 2,
   "id": "53bf1e71-abd5-49c5-83bc-83d5944f805f",
   "metadata": {},
   "outputs": [
    {
     "name": "stdout",
     "output_type": "stream",
     "text": [
      "1.1 0.5 0.5 0 0\n",
      "1.1 1 0 0 0\n",
      "1.1 0 1 0 0\n",
      "1.1 1 0 0 0\n",
      "1.2 1 0 0 0\n",
      "1.2 0.5 0.5 0 0\n",
      "1.2 0.5 0.5 0 0\n",
      "1.2 1 0 0 0\n",
      "1.3 0 0 0 1\n",
      "2.1 1 0 0 0\n",
      "2.1 0.5 0.5 0 0\n",
      "2.1 0 1 0 0\n",
      "2.1 0.5 0.5 0 0\n",
      "2.2 0.5 0.5 0 0\n",
      "2.2 0.5 0.5 0 0\n",
      "2.2 0 1 0 0\n",
      "2.2 0.5 0.5 0 0\n",
      "2.3 0 0 1 0\n",
      "2.3 0 0 0 1\n",
      "2.3 0 0 1 0\n",
      "3.1 0 1 0 0\n",
      "3.1 0.5 0.5 0 0\n",
      "3.1 0.5 0.5 0 0\n",
      "3.1 1 0 0 0\n",
      "3.2 0 1 0 0\n",
      "3.2 0 1 0 0\n",
      "3.2 0.5 0.5 0 0\n",
      "3.2 0 1 0 0\n",
      "3.3 0 0 0 1\n",
      "3.3 0 0 1 0\n",
      "4.1 1 0 0 0\n",
      "4.1 0.5 0.5 0 0\n",
      "4.1 0.5 0.5 0 0\n",
      "4.1 0.5 0.5 0 0\n",
      "4.2 0 1 0 0\n",
      "4.2 0.5 0.5 0 0\n",
      "4.2 0.5 0.5 0 0\n",
      "4.2 0.5 0.5 0 0\n",
      "4.3 0 0 1 0\n",
      "4.3 0 0 1 0\n",
      "4.3 0 0 1 0\n",
      "5.1 1 0 0 0\n",
      "5.1 0 1 0 0\n",
      "5.1 1 0 0 0\n",
      "5.1 0.5 0.5 0 0\n",
      "5.2 0.5 0.5 0 0\n",
      "5.2 0 1 0 0\n",
      "5.2 0.5 0.5 0 0\n",
      "5.2 0.5 0.5 0 0\n",
      "5.3 0 0 1 0\n",
      "5.3 0 0 1 0\n",
      "6.1 0.5 0.5 0 0\n",
      "6.1 0.5 0.5 0 0\n",
      "6.1 1 0 0 0\n",
      "6.1 0.5 0.5 0 0\n",
      "6.2 0.5 0.5 0 0\n",
      "6.2 0.5 0.5 0 0\n",
      "6.2 0.5 0.5 0 0\n",
      "6.2 0.5 0.5 0 0\n",
      "6.3 0 0 1 0\n",
      "6.3 0 0 0 1\n",
      "6.3 0 0 0 1\n",
      "7.1 0.5 0.5 0 0\n",
      "7.1 1 0 0 0\n",
      "7.1 0.5 0.5 0 0\n",
      "7.1 0 1 0 0\n",
      "7.2 0.5 0.5 0 0\n",
      "7.2 0 1 0 0\n",
      "7.2 0.5 0.5 0 0\n",
      "7.2 0 1 0 0\n",
      "7.3 0 0 0 1\n",
      "7.3 0 0 1 0\n",
      "7.3 0 0 1 0\n"
     ]
    }
   ],
   "source": [
    "pgn = open(f\"C:/workspace/Python/CrazyAra/etc/2023-champions-chess-tour-finals-round-robin-stage.pgn\", \"r\")\n",
    "\n",
    "games_parsed = 0\n",
    "elos = list()\n",
    "elo_dict = dict()\n",
    "player_results_dict = dict()\n",
    "result_to_white_points = {\"1-0\": 1, \"0-1\": 0, \"1/2-1/2\": 0.5}\n",
    "tie_results_to_white_points = {\"1-0\": 1, \"0-1\": 0, \"1/2-1/2\": 0}\n",
    "\n",
    "while True:\n",
    "    curr_game = chess.pgn.read_game(pgn)\n",
    "    games_parsed += 1\n",
    "    if games_parsed % 10000 == 0:\n",
    "        print(games_parsed)\n",
    "    if curr_game is None or games_parsed > 1000000:\n",
    "        break\n",
    "\n",
    "    try:\n",
    "        white_elo = curr_game.headers[\"WhiteElo\"]\n",
    "        white_name = curr_game.headers[\"White\"]\n",
    "        round = curr_game.headers[\"Round\"]\n",
    "        result = curr_game.headers[\"Result\"]\n",
    "        black_elo = curr_game.headers[\"BlackElo\"]\n",
    "        black_name = curr_game.headers[\"Black\"]\n",
    "    except KeyError:\n",
    "        white_elo = \"0\"\n",
    "        white_name = \"None\"\n",
    "        round = \"\"\n",
    "        result = \"\"\n",
    "        black_elo = \"0\"\n",
    "        black_name = \"None\"\n",
    "\n",
    "    is_tiebreaker_game = (round[-1] == \"3\")\n",
    "    tie_points_white = tie_results_to_white_points[result] if is_tiebreaker_game else 0\n",
    "    tie_points_black = 1-tie_points_white if is_tiebreaker_game else 0\n",
    "    \n",
    "\n",
    "    points_white = result_to_white_points[result] if not is_tiebreaker_game else 0\n",
    "    points_black = 1-points_white if not is_tiebreaker_game else 0\n",
    "\n",
    "    print(round, points_white, points_black, tie_points_white, tie_points_black)\n",
    "    \n",
    "    if white_name not in player_results_dict:\n",
    "        player_results_dict[white_name] = [points_white, points_black, tie_points_white, tie_points_black, -0.5+tie_points_white if is_tiebreaker_game else 0, -0.5+tie_points_black if is_tiebreaker_game else 0]\n",
    "    else:\n",
    "        player_results_dict[white_name][0] += points_white\n",
    "        player_results_dict[white_name][1] += points_black\n",
    "        player_results_dict[white_name][2] += tie_points_white\n",
    "        player_results_dict[white_name][3] += tie_points_black\n",
    "        player_results_dict[white_name][4] += (-0.5+tie_points_white) if is_tiebreaker_game else 0\n",
    "        player_results_dict[white_name][5] += (-0.5+tie_points_black) if is_tiebreaker_game else 0\n",
    "\n",
    "    if black_name not in player_results_dict:\n",
    "        player_results_dict[black_name] = [points_black, points_white, tie_points_black, tie_points_white, -0.5+tie_points_black if is_tiebreaker_game else 0, -0.5+tie_points_white if is_tiebreaker_game else 0]\n",
    "    else:\n",
    "        player_results_dict[black_name][0] += points_black\n",
    "        player_results_dict[black_name][1] += points_white\n",
    "        player_results_dict[black_name][2] += tie_points_black\n",
    "        player_results_dict[black_name][3] += tie_points_white\n",
    "        player_results_dict[black_name][4] += (-0.5+tie_points_black) if is_tiebreaker_game else 0\n",
    "        player_results_dict[black_name][5] += (-0.5+tie_points_white) if is_tiebreaker_game else 0\n",
    "    \n",
    "    elos.append(int(white_elo))\n",
    "    elos.append(int(black_elo))\n",
    "    elo_dict[white_name] = int(white_elo)\n",
    "    elo_dict[black_name] = int(black_elo)\n",
    "    #_, headers = chess.pgn.scan_headers(game_pgn_copy)"
   ]
  },
  {
   "cell_type": "code",
   "execution_count": 3,
   "id": "615aa7b4-4629-42c6-87a5-8f3ff83cacdb",
   "metadata": {},
   "outputs": [
    {
     "data": {
      "text/plain": [
       "{'Abdusattorov, Nodirbek': [7.5, 6.5, 3, 2, 0.5, -0.5],\n",
       " 'Firouzja, Alireza': [6.0, 8.0, 1, 3, -1.0, 1.0],\n",
       " 'Carlsen, Magnus': [8.5, 5.5, 3, 1, 1.0, -1.0],\n",
       " 'Lazavik, Denis': [4.5, 9.5, 1, 2, -0.5, 0.5],\n",
       " 'Nakamura, Hikaru': [8.5, 5.5, 0, 4, -2.0, 2.0],\n",
       " 'So, Wesley': [8.0, 6.0, 4, 1, 1.5, -1.5],\n",
       " 'Caruana, Fabiano': [6.0, 8.0, 4, 0, 2.0, -2.0],\n",
       " 'Vachier-Lagrave, Maxime': [7.0, 7.0, 1, 4, -1.5, 1.5]}"
      ]
     },
     "execution_count": 3,
     "metadata": {},
     "output_type": "execute_result"
    }
   ],
   "source": [
    "player_results_dict"
   ]
  },
  {
   "cell_type": "code",
   "execution_count": 4,
   "id": "131b8ea0-5b40-44c5-9f90-cc8770b9388f",
   "metadata": {},
   "outputs": [],
   "source": [
    "for player in player_results_dict.keys():\n",
    "    player_results_dict[player].append(player_results_dict[player][0]+player_results_dict[player][2]-player_results_dict[player][1]-player_results_dict[player][3])\n",
    "    player_results_dict[player].append(player_results_dict[player][0]+player_results_dict[player][4]-player_results_dict[player][1]-player_results_dict[player][5])"
   ]
  },
  {
   "cell_type": "code",
   "execution_count": 5,
   "id": "6a249ddb-129f-4091-8f70-a6ecfa88d84e",
   "metadata": {},
   "outputs": [
    {
     "data": {
      "text/plain": [
       "{'Abdusattorov, Nodirbek': [7.5, 6.5, 3, 2, 0.5, -0.5, 2.0, 2.0],\n",
       " 'Firouzja, Alireza': [6.0, 8.0, 1, 3, -1.0, 1.0, -4.0, -4.0],\n",
       " 'Carlsen, Magnus': [8.5, 5.5, 3, 1, 1.0, -1.0, 5.0, 5.0],\n",
       " 'Lazavik, Denis': [4.5, 9.5, 1, 2, -0.5, 0.5, -6.0, -6.0],\n",
       " 'Nakamura, Hikaru': [8.5, 5.5, 0, 4, -2.0, 2.0, -1.0, -1.0],\n",
       " 'So, Wesley': [8.0, 6.0, 4, 1, 1.5, -1.5, 5.0, 5.0],\n",
       " 'Caruana, Fabiano': [6.0, 8.0, 4, 0, 2.0, -2.0, 2.0, 2.0],\n",
       " 'Vachier-Lagrave, Maxime': [7.0, 7.0, 1, 4, -1.5, 1.5, -3.0, -3.0]}"
      ]
     },
     "execution_count": 5,
     "metadata": {},
     "output_type": "execute_result"
    }
   ],
   "source": [
    "player_results_dict"
   ]
  },
  {
   "cell_type": "code",
   "execution_count": null,
   "id": "6dbbef01-4ed6-484a-9472-e57b4c7ef4b8",
   "metadata": {},
   "outputs": [],
   "source": []
  }
 ],
 "metadata": {
  "kernelspec": {
   "display_name": "VPython",
   "language": "python",
   "name": "vpython"
  },
  "language_info": {
   "codemirror_mode": {
    "name": "ipython",
    "version": 3
   },
   "file_extension": ".py",
   "mimetype": "text/x-python",
   "name": "python",
   "nbconvert_exporter": "python",
   "pygments_lexer": "ipython3",
   "version": "3.8.16"
  }
 },
 "nbformat": 4,
 "nbformat_minor": 5
}
